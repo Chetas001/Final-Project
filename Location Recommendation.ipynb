{
    "cells": [
        {
            "cell_type": "markdown",
            "metadata": {
                "collapsed": true
            },
            "source": "# Coursera Capstone Project"
        },
        {
            "cell_type": "markdown",
            "metadata": {},
            "source": "In this project we will focus on using the location data to explore interesting problems in real word! The project title is:Location recommendation for Chinese Restaurant in Columbus."
        },
        {
            "cell_type": "markdown",
            "metadata": {},
            "source": "## Table of content"
        },
        {
            "cell_type": "markdown",
            "metadata": {},
            "source": "1. Introduction/Business Problem\n2. Solution (Methodology)\n3. Result /Discussion /Conclusion\n4. Acknowledgement"
        },
        {
            "cell_type": "markdown",
            "metadata": {},
            "source": "## 1. Introduction/Business Problem"
        },
        {
            "cell_type": "markdown",
            "metadata": {},
            "source": "Let say if you are a buisiness manerger who want to invest a Indian restaruant in your resident city. You are live in the mid-size city which has fast growth. You have to decide where or which neighberhoods to open the restaruant.\nIn order to answer this question, you have to build a model get some recommendations where to start your business.\n1. Therefore, we will learn a model from a mature city/metropolitan city since we believe that it is more develeped. Your city will become a metropolis some day.\n2. Another thing you believe is that any one of business venue does not exist alone,and \"Indian restaruant\" always tends to be find with some other type of shops,because neighberhoods have      \"cultures\" to like them both."
        },
        {
            "cell_type": "markdown",
            "metadata": {},
            "source": "## 2. Solution (Methodology)"
        },
        {
            "cell_type": "markdown",
            "metadata": {},
            "source": "1. Therefore, we will use Regression method to learn and predict number of the Indian restaruant in a neighberhood by providing the venues information of Toronto City. Venues information is discoverd from Foursquare API.\n2. Then, you will the build model to pridict the number of Indian restaruant in your city and compare with exiting number of Indian restaruant. And a potaitial place to start your business!\n3. In this project, we will us Columbus,OH as example, to see how we can achieve it. Neighborhoods infomation is get from city-data.com And the location infomation is get from (https://www.gps-coordinates.net/)"
        },
        {
            "cell_type": "markdown",
            "metadata": {},
            "source": "## 3.Result /Discussion /Conclusion"
        },
        {
            "cell_type": "markdown",
            "metadata": {},
            "source": "1. We get 10 top recommendations of location to start you business on Chinese Restaruant in Columbus\n2. "
        }
    ],
    "metadata": {
        "kernelspec": {
            "display_name": "Python 3.6",
            "language": "python",
            "name": "python3"
        },
        "language_info": {
            "codemirror_mode": {
                "name": "ipython",
                "version": 3
            },
            "file_extension": ".py",
            "mimetype": "text/x-python",
            "name": "python",
            "nbconvert_exporter": "python",
            "pygments_lexer": "ipython3",
            "version": "3.6.9"
        }
    },
    "nbformat": 4,
    "nbformat_minor": 1
}